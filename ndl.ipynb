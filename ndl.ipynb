{
 "cells": [
  {
   "cell_type": "markdown",
   "metadata": {},
   "source": [
    "see http://lab.ndl.go.jp/cms/hiragana73\n",
    "```console\n",
    "$ wget http://lab.ndl.go.jp/dataset/hiragana73.tar.gz\n",
    "$ tar xfz hiragana73.tar.gz\n",
    "$ wget http://lab.ndl.go.jp/dataset/example/train_ndlkana.tar.gz\n",
    "$ tar xfz train_ndlkana.tar.gz\n",
    "```"
   ]
  },
  {
   "cell_type": "code",
   "execution_count": 2,
   "metadata": {},
   "outputs": [
    {
     "name": "stdout",
     "output_type": "stream",
     "text": [
      "Collecting Pillow\n",
      "\u001b[?25l  Downloading https://files.pythonhosted.org/packages/5f/4b/8b54ab9d37b93998c81b364557dff9f61972c0f650efa0ceaf470b392740/Pillow-5.1.0-cp36-cp36m-manylinux1_x86_64.whl (2.0MB)\n",
      "\u001b[K    100% |################################| 2.0MB 4.0MB/s ta 0:00:011\n",
      "\u001b[?25hInstalling collected packages: Pillow\n",
      "Successfully installed Pillow-5.1.0\n"
     ]
    }
   ],
   "source": [
    "!python3 -m pip install Pillow"
   ]
  },
  {
   "cell_type": "code",
   "execution_count": 4,
   "metadata": {},
   "outputs": [
    {
     "name": "stdout",
     "output_type": "stream",
     "text": [
      "Namespace(batchsize=100, datadir='hiragana73', epoch=20, fspec='*.png', initmodel='', resume='', testratio=0.14285714285714285)\n",
      "load NDLKANA dataset\n",
      "n_train=68597 n_test=11403\n",
      "n_class=73\n",
      "epoch 1\n",
      "graph generated\n",
      "train mean loss=0.57483, accuracy=0.86960, throughput=2499.3 images/sec\n",
      "test  mean loss=0.13620, accuracy=0.96659\n",
      "epoch 2\n",
      "train mean loss=0.11068, accuracy=0.97082, throughput=2439.0 images/sec\n",
      "test  mean loss=0.11671, accuracy=0.96843\n",
      "epoch 3\n",
      "train mean loss=0.07604, accuracy=0.97809, throughput=2532.6 images/sec\n",
      "test  mean loss=0.09048, accuracy=0.97431\n",
      "epoch 4\n",
      "train mean loss=0.05962, accuracy=0.98230, throughput=2382.0 images/sec\n",
      "test  mean loss=0.07687, accuracy=0.97965\n",
      "epoch 5\n",
      "train mean loss=0.04886, accuracy=0.98494, throughput=2411.1 images/sec\n",
      "test  mean loss=0.07766, accuracy=0.97948\n",
      "epoch 6\n",
      "train mean loss=0.04127, accuracy=0.98668, throughput=2442.6 images/sec\n",
      "test  mean loss=0.06493, accuracy=0.98158\n",
      "epoch 7\n",
      "train mean loss=0.03590, accuracy=0.98824, throughput=2402.4 images/sec\n",
      "test  mean loss=0.07085, accuracy=0.98036\n",
      "epoch 8\n",
      "train mean loss=0.03127, accuracy=0.99004, throughput=2448.9 images/sec\n",
      "test  mean loss=0.06418, accuracy=0.98439\n",
      "epoch 9\n",
      "train mean loss=0.02794, accuracy=0.99063, throughput=2467.7 images/sec\n",
      "test  mean loss=0.06784, accuracy=0.98404\n",
      "epoch 10\n",
      "train mean loss=0.02741, accuracy=0.99073, throughput=2510.0 images/sec\n",
      "test  mean loss=0.05998, accuracy=0.98369\n",
      "epoch 11\n",
      "train mean loss=0.02202, accuracy=0.99223, throughput=2511.8 images/sec\n",
      "test  mean loss=0.07283, accuracy=0.98299\n",
      "epoch 12\n",
      "train mean loss=0.02566, accuracy=0.99144, throughput=2347.9 images/sec\n",
      "test  mean loss=0.05841, accuracy=0.98553\n",
      "epoch 13\n",
      "train mean loss=0.01980, accuracy=0.99328, throughput=2333.7 images/sec\n",
      "test  mean loss=0.06354, accuracy=0.98597\n",
      "epoch 14\n",
      "train mean loss=0.01856, accuracy=0.99410, throughput=2462.7 images/sec\n",
      "test  mean loss=0.06683, accuracy=0.98553\n",
      "epoch 15\n",
      "train mean loss=0.01869, accuracy=0.99388, throughput=2500.8 images/sec\n",
      "test  mean loss=0.06989, accuracy=0.98386\n",
      "epoch 16\n",
      "train mean loss=0.01694, accuracy=0.99453, throughput=2396.9 images/sec\n",
      "test  mean loss=0.05911, accuracy=0.98649\n",
      "epoch 17\n",
      "train mean loss=0.01698, accuracy=0.99430, throughput=2236.9 images/sec\n",
      "test  mean loss=0.07050, accuracy=0.98702\n",
      "epoch 18\n",
      "train mean loss=0.01475, accuracy=0.99496, throughput=2366.4 images/sec\n",
      "test  mean loss=0.06898, accuracy=0.98685\n",
      "epoch 19\n",
      "train mean loss=0.01301, accuracy=0.99576, throughput=2414.2 images/sec\n",
      "test  mean loss=0.07239, accuracy=0.98492\n",
      "epoch 20\n",
      "train mean loss=0.01600, accuracy=0.99509, throughput=2380.1 images/sec\n",
      "test  mean loss=0.07081, accuracy=0.98606\n",
      "save the model\n",
      "save the optimizer\n"
     ]
    }
   ],
   "source": [
    "%run -i example/ndlkana/train.py -d hiragana73"
   ]
  },
  {
   "cell_type": "code",
   "execution_count": 5,
   "metadata": {},
   "outputs": [],
   "source": [
    "from pathlib import Path\n",
    "import sys\n",
    "sys.path.append(str(Path('./example/ndlkana').absolute()))\n",
    "import net\n",
    "import data\n",
    "\n",
    "import numpy as np\n",
    "import random\n",
    "from PIL import Image\n",
    "\n",
    "import chainer\n",
    "import chainer.links as L\n",
    "from chainer import serializers"
   ]
  },
  {
   "cell_type": "code",
   "execution_count": 6,
   "metadata": {
    "scrolled": true
   },
   "outputs": [
    {
     "name": "stdout",
     "output_type": "stream",
     "text": [
      "load NDLKANA dataset\n",
      "n_train=68597 n_test=11403\n"
     ]
    }
   ],
   "source": [
    "# Prepare dataset\n",
    "print('load NDLKANA dataset')\n",
    "ndlkana = data.load_ndlkana_data('hiragana73', '*.png', 1.0/7.0)\n",
    "ndlkana['data'] = ndlkana['data'].astype(np.float32)\n",
    "ndlkana['data'] /= 255\n",
    "n_test = ndlkana['testsize']\n",
    "n_train = ndlkana['data'].shape[0] - n_test\n",
    "print(\"n_train={} n_test={}\".format(n_train, n_test))\n",
    "\n",
    "_, x_test = np.split(ndlkana['data'], [n_train])\n",
    "\n",
    "# Prepare CNN model, defined in net.py\n",
    "model = L.Classifier(net.NdlkanaCNN())\n",
    "serializers.load_npz('hiragana73.model', model)"
   ]
  },
  {
   "cell_type": "code",
   "execution_count": 43,
   "metadata": {
    "scrolled": true
   },
   "outputs": [
    {
     "name": "stdout",
     "output_type": "stream",
     "text": [
      "--画像\n"
     ]
    },
    {
     "data": {
      "image/png": "[encoded data removed]",
      "text/plain": [
       "<PIL.Image.Image image mode=L size=48x48 at 0x7F95422C79B0>"
      ]
     },
     "metadata": {},
     "output_type": "display_data"
    },
    {
     "name": "stdout",
     "output_type": "stream",
     "text": [
      "--候補一位の文字\n",
      "せ\n",
      "--候補ぜんぶ（ラベルのインデックス）\n",
      "[21 22 51 66 40 25 33 50 59 37 36  9 31  4 42 63 28 19 71 39 11 18 61 34 72\n",
      " 64  0 16 35 60 14 48 32 38  7 26 58 57  6 53 70  1 41 44 49 17 13  3 15 56\n",
      " 52 27  5  8 29 10 23 24 43 45 68 47 65 67 62 55 30  2 54 20 46 69 12]\n",
      "--確率ぜんぶ\n",
      "[  7.39292622   0.80466545   0.5365994   -2.02391601  -2.12653828\n",
      "  -2.44498348  -2.61160302  -3.17728567  -4.87509871  -5.18633127\n",
      "  -5.77648926  -5.90091658  -7.84125566  -7.89595032  -8.23139668\n",
      "  -8.379076    -8.40882969  -8.57416248  -8.83006859  -9.06515026\n",
      "  -9.61909008  -9.74232578 -10.18440247 -10.19537926 -10.39629555\n",
      " -10.53983307 -10.58770752 -10.98420334 -11.07983494 -11.25813293\n",
      " -11.76102638 -11.86397743 -11.97500134 -11.98637295 -12.34544277\n",
      " -12.57084084 -12.58101082 -12.59549904 -12.79733276 -12.8950882\n",
      " -13.12607479 -13.21101952 -13.55077934 -13.6707716  -13.68242836\n",
      " -14.06533813 -14.11181068 -14.27572346 -14.33026981 -14.49097729\n",
      " -14.53163624 -14.62358761 -14.70830154 -14.91421604 -15.22727203\n",
      " -15.28550529 -15.61158752 -15.94737148 -16.43763351 -16.58153725\n",
      " -16.94737053 -17.14120674 -17.96526337 -18.85281563 -19.24281311\n",
      " -19.41680145 -19.64408112 -20.11096191 -20.14222908 -20.1970253\n",
      " -22.58972931 -23.84316826 -24.02269363]\n"
     ]
    }
   ],
   "source": [
    "# 推測の対象画像をランダム選択\n",
    "i = random.randrange(n_test)\n",
    "img = x_test[i:i + 1]\n",
    "print('--画像')\n",
    "display(Image.fromarray(np.uint8(img[0][0]*255)))\n",
    "\n",
    "# 推測\n",
    "x = chainer.Variable(np.asarray(img))\n",
    "with chainer.using_config('train', False):\n",
    "    y = model.predictor(x)\n",
    "hexcode = ndlkana['label'][y.data[0].argmax()]\n",
    "print('--候補一位の文字')\n",
    "print(chr(int(hexcode.replace('U', '0x'), 16)))\n",
    "\n",
    "print('--候補ぜんぶ（ラベルのインデックス）')\n",
    "print(np.argsort(y.data[0])[-1::-1])\n",
    "print('--確率ぜんぶ')\n",
    "print(np.sort(y.data[0])[-1::-1])"
   ]
  },
  {
   "cell_type": "code",
   "execution_count": 44,
   "metadata": {},
   "outputs": [
    {
     "data": {
      "text/plain": [
       "3462"
      ]
     },
     "execution_count": 44,
     "metadata": {},
     "output_type": "execute_result"
    }
   ],
   "source": [
    "i"
   ]
  }
 ],
 "metadata": {
  "kernelspec": {
   "display_name": "Python 3",
   "language": "python",
   "name": "python3"
  },
  "language_info": {
   "codemirror_mode": {
    "name": "ipython",
    "version": 3
   },
   "file_extension": ".py",
   "mimetype": "text/x-python",
   "name": "python",
   "nbconvert_exporter": "python",
   "pygments_lexer": "ipython3",
   "version": "3.6.5"
  }
 },
 "nbformat": 4,
 "nbformat_minor": 2
}
